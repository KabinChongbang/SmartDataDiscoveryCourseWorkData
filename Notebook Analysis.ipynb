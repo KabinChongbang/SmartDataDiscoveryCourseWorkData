{
 "cells": [
  {
   "cell_type": "markdown",
   "id": "5f4faa65",
   "metadata": {},
   "source": [
    "# CC5067NT Smart Data Discovery Course Work"
   ]
  },
  {
   "cell_type": "markdown",
   "id": "31c7c31f",
   "metadata": {},
   "source": [
    "## `2. Data Preparation`"
   ]
  },
  {
   "cell_type": "markdown",
   "id": "64ee500b",
   "metadata": {},
   "source": [
    "### ● Write a python program to merge data from each month into one CSV and read in updated dataframe.\n",
    "\n",
    "**For my course work I have used the [GitHub](https://github.com/KabinChongbang/SmartDataDiscoveryCourseWorkData) to store and access all the CSV sale files. For that I have to used the url and file name to access the data. This can take a little bit of few seconds to combine all the data.**"
   ]
  },
  {
   "cell_type": "code",
   "execution_count": 1,
   "id": "db99c505",
   "metadata": {},
   "outputs": [
    {
     "data": {
      "text/plain": [
       "(186850, 6)"
      ]
     },
     "execution_count": 1,
     "metadata": {},
     "output_type": "execute_result"
    }
   ],
   "source": [
    "from pandas import read_csv\n",
    "import pandas as pd\n",
    "\n",
    "# Set the GitHub repository URL and CSV file names\n",
    "repo_url = \"https://raw.githubusercontent.com/KabinChongbang/SmartDataDiscoveryCourseWorkData/master/\"\n",
    "csv_files = [\"Sales_January_2019.csv\", \"Sales_February_2019.csv\", \"Sales_March_2019.csv\", \"Sales_April_2019.csv\",\n",
    "             \"Sales_May_2019.csv\", \"Sales_June_2019.csv\", \"Sales_July_2019.csv\", \"Sales_August_2019.csv\", \n",
    "             \"Sales_September_2019.csv\", \"Sales_October_2019.csv\", \"Sales_November_2019.csv\", \n",
    "             \"Sales_December_2019.csv\" ]\n",
    "\n",
    "# Create an empty list to store the combined data frames\n",
    "data_frames = []\n",
    "\n",
    "# Loop through each CSV file and append its data to the data_frames list\n",
    "for file in csv_files:\n",
    "    url = f\"{repo_url}/{file}\"\n",
    "    dataset = read_csv(url)\n",
    "    data_frames.append(dataset)\n",
    "\n",
    "# Concatenate all the data frames into a single data frame\n",
    "combined_data = pd.concat(data_frames, ignore_index=True)\n",
    "\n",
    "combined_data.shape"
   ]
  },
  {
   "cell_type": "markdown",
   "id": "6339ebc1",
   "metadata": {},
   "source": [
    "**Now the merge data from each month is converted into single one CSV file.**"
   ]
  },
  {
   "cell_type": "code",
   "execution_count": 2,
   "id": "ce38199a",
   "metadata": {},
   "outputs": [],
   "source": [
    "#Export the combined data frame to a single CSV file\n",
    "combined_data.to_csv('combined_sales_data.csv', index=False)"
   ]
  },
  {
   "cell_type": "markdown",
   "id": "08566281",
   "metadata": {},
   "source": [
    "### ● Write a python program to remove the NaN missing values from updated dataframe. "
   ]
  },
  {
   "cell_type": "markdown",
   "id": "5be84932",
   "metadata": {},
   "source": [
    "**Displaying many number of NaN missing values in each columns.**"
   ]
  },
  {
   "cell_type": "code",
   "execution_count": 3,
   "id": "f8c918e4",
   "metadata": {},
   "outputs": [
    {
     "data": {
      "text/plain": [
       "Order ID            545\n",
       "Product             545\n",
       "Quantity Ordered    545\n",
       "Price Each          545\n",
       "Order Date          545\n",
       "Purchase Address    545\n",
       "dtype: int64"
      ]
     },
     "execution_count": 3,
     "metadata": {},
     "output_type": "execute_result"
    }
   ],
   "source": [
    "# isna() function is used to detect missing values. \n",
    "# This function return the bool values for each element in dataframe and counted all by using sum() function in it.\n",
    "combined_data.isna().sum()"
   ]
  },
  {
   "cell_type": "markdown",
   "id": "6d066091",
   "metadata": {},
   "source": [
    "**Droping the NaN values and displaying the column stats.**"
   ]
  },
  {
   "cell_type": "code",
   "execution_count": 4,
   "id": "35d7fdab",
   "metadata": {},
   "outputs": [
    {
     "data": {
      "text/plain": [
       "Order ID            0\n",
       "Product             0\n",
       "Quantity Ordered    0\n",
       "Price Each          0\n",
       "Order Date          0\n",
       "Purchase Address    0\n",
       "dtype: int64"
      ]
     },
     "execution_count": 4,
     "metadata": {},
     "output_type": "execute_result"
    }
   ],
   "source": [
    "# dropna() function is used to remove the missing values.\n",
    "combined_data = combined_data.dropna()\n",
    "combined_data.isna().sum()"
   ]
  },
  {
   "cell_type": "markdown",
   "id": "6d9027e2",
   "metadata": {},
   "source": [
    "### ● Write a python program to convert Quantity Ordered and Price Each to numeric. "
   ]
  },
  {
   "cell_type": "markdown",
   "id": "a88ffe6c",
   "metadata": {},
   "source": [
    "**Display the data type of all the columns.**"
   ]
  },
  {
   "cell_type": "code",
   "execution_count": 5,
   "id": "f6495848",
   "metadata": {},
   "outputs": [
    {
     "data": {
      "text/plain": [
       "Order ID            object\n",
       "Product             object\n",
       "Quantity Ordered    object\n",
       "Price Each          object\n",
       "Order Date          object\n",
       "Purchase Address    object\n",
       "dtype: object"
      ]
     },
     "execution_count": 5,
     "metadata": {},
     "output_type": "execute_result"
    }
   ],
   "source": [
    "# Return the dtypes in the DataFrame.\n",
    "combined_data.dtypes"
   ]
  },
  {
   "cell_type": "markdown",
   "id": "2d63b082",
   "metadata": {},
   "source": [
    "**Converting the Quantity Ordered and Price Each column to numeric.**"
   ]
  },
  {
   "cell_type": "code",
   "execution_count": 6,
   "id": "bb971991",
   "metadata": {},
   "outputs": [
    {
     "data": {
      "text/plain": [
       "Order ID             object\n",
       "Product              object\n",
       "Quantity Ordered    float32\n",
       "Price Each          float32\n",
       "Order Date           object\n",
       "Purchase Address     object\n",
       "dtype: object"
      ]
     },
     "execution_count": 6,
     "metadata": {},
     "output_type": "execute_result"
    }
   ],
   "source": [
    "# to_numeric function is used to convert the passed argument to a numeric type.\n",
    "# errors is set to coerce for invalid parsing which will be set as NaN.\n",
    "# Float number is downcasted to smallest float dtype as most of the data are small.  \n",
    "combined_data['Quantity Ordered'] = pd.to_numeric(combined_data['Quantity Ordered'], errors='coerce',\n",
    "downcast=\"float\")\n",
    "combined_data['Price Each'] = pd.to_numeric(combined_data['Price Each'], errors='coerce', downcast=\"float\")\n",
    "combined_data.dtypes"
   ]
  },
  {
   "cell_type": "markdown",
   "id": "a69531b5",
   "metadata": {},
   "source": [
    "**Droping the NaN values and displaying the column stats.**"
   ]
  },
  {
   "cell_type": "code",
   "execution_count": 7,
   "id": "5bc4e0c9",
   "metadata": {},
   "outputs": [
    {
     "data": {
      "text/plain": [
       "Order ID              0\n",
       "Product               0\n",
       "Quantity Ordered    355\n",
       "Price Each          355\n",
       "Order Date            0\n",
       "Purchase Address      0\n",
       "dtype: int64"
      ]
     },
     "execution_count": 7,
     "metadata": {},
     "output_type": "execute_result"
    }
   ],
   "source": [
    "combined_data.isna().sum()"
   ]
  },
  {
   "cell_type": "code",
   "execution_count": 8,
   "id": "9187f609",
   "metadata": {},
   "outputs": [
    {
     "data": {
      "text/plain": [
       "Order ID            0\n",
       "Product             0\n",
       "Quantity Ordered    0\n",
       "Price Each          0\n",
       "Order Date          0\n",
       "Purchase Address    0\n",
       "dtype: int64"
      ]
     },
     "execution_count": 8,
     "metadata": {},
     "output_type": "execute_result"
    }
   ],
   "source": [
    "# dropna() function is used to remove the missing values.\n",
    "combined_data = combined_data.dropna()\n",
    "combined_data.isnull().sum()"
   ]
  },
  {
   "cell_type": "markdown",
   "id": "d7dc7613",
   "metadata": {},
   "source": [
    "### ● Create a new column named Month from Ordered Date of updated dataframe and convert it to integer as data type. "
   ]
  },
  {
   "cell_type": "markdown",
   "id": "5c7b12e9",
   "metadata": {},
   "source": [
    "**Since the Order Date column is in Object datatype. It has to be converted into Date datatype.**"
   ]
  },
  {
   "cell_type": "code",
   "execution_count": 9,
   "id": "72d8f955",
   "metadata": {},
   "outputs": [
    {
     "data": {
      "text/plain": [
       "Order ID                    object\n",
       "Product                     object\n",
       "Quantity Ordered           float32\n",
       "Price Each                 float32\n",
       "Order Date          datetime64[ns]\n",
       "Purchase Address            object\n",
       "dtype: object"
      ]
     },
     "execution_count": 9,
     "metadata": {},
     "output_type": "execute_result"
    }
   ],
   "source": [
    "# to_numeric function is used to convert the passed argument to a datetime dtype.\n",
    "# errors is set to coerce for invalid parsing which will be set as NaN.\n",
    "# dropna() function is used to remove the missing values.\n",
    "combined_data['Order Date'] = pd.to_datetime(combined_data['Order Date'], errors='coerce').dropna()\n",
    "combined_data.dtypes"
   ]
  },
  {
   "cell_type": "markdown",
   "id": "89c3fb4a",
   "metadata": {},
   "source": [
    "**Creating a new column name Month in integer of data as month of Order.**"
   ]
  },
  {
   "cell_type": "code",
   "execution_count": 10,
   "id": "d21bcf41",
   "metadata": {},
   "outputs": [
    {
     "data": {
      "text/plain": [
       "Order ID                    object\n",
       "Product                     object\n",
       "Quantity Ordered           float32\n",
       "Price Each                 float32\n",
       "Order Date          datetime64[ns]\n",
       "Purchase Address            object\n",
       "Month                        int64\n",
       "dtype: object"
      ]
     },
     "execution_count": 10,
     "metadata": {},
     "output_type": "execute_result"
    }
   ],
   "source": [
    "# dt.month is used to return the month of datetime dtype.\n",
    "combined_data['Month'] = combined_data['Order Date'].dt.month\n",
    "combined_data.dtypes"
   ]
  },
  {
   "cell_type": "markdown",
   "id": "88aa19d3",
   "metadata": {},
   "source": [
    "### ● Create a new column named City from Purchase Address based on the value in updated dataframe."
   ]
  },
  {
   "cell_type": "markdown",
   "id": "5258f29b",
   "metadata": {},
   "source": [
    "**Creating a new column name City and setting its data as name of citys.**"
   ]
  },
  {
   "cell_type": "code",
   "execution_count": 11,
   "id": "1238871e",
   "metadata": {},
   "outputs": [],
   "source": [
    "# This fucntion will strip the middle part from data and return the name of citys.\n",
    "def get_city_name(address):\n",
    "    words = address.split(\",\")\n",
    "    if len(words) >= 2:\n",
    "        return words[1].strip()\n",
    "    else:\n",
    "        return \"\"\n",
    "\n",
    "# Creating the new column and applying the function to data of Purchase Address column.\n",
    "combined_data['City'] = combined_data['Purchase Address'].apply(get_city_name).dropna()"
   ]
  },
  {
   "cell_type": "code",
   "execution_count": 12,
   "id": "fa20dc1a",
   "metadata": {},
   "outputs": [
    {
     "data": {
      "text/html": [
       "<div>\n",
       "<style scoped>\n",
       "    .dataframe tbody tr th:only-of-type {\n",
       "        vertical-align: middle;\n",
       "    }\n",
       "\n",
       "    .dataframe tbody tr th {\n",
       "        vertical-align: top;\n",
       "    }\n",
       "\n",
       "    .dataframe thead th {\n",
       "        text-align: right;\n",
       "    }\n",
       "</style>\n",
       "<table border=\"1\" class=\"dataframe\">\n",
       "  <thead>\n",
       "    <tr style=\"text-align: right;\">\n",
       "      <th></th>\n",
       "      <th>Order ID</th>\n",
       "      <th>Product</th>\n",
       "      <th>Quantity Ordered</th>\n",
       "      <th>Price Each</th>\n",
       "      <th>Order Date</th>\n",
       "      <th>Purchase Address</th>\n",
       "      <th>Month</th>\n",
       "      <th>City</th>\n",
       "    </tr>\n",
       "  </thead>\n",
       "  <tbody>\n",
       "    <tr>\n",
       "      <th>0</th>\n",
       "      <td>141234</td>\n",
       "      <td>iPhone</td>\n",
       "      <td>1.0</td>\n",
       "      <td>700.000000</td>\n",
       "      <td>2019-01-22 21:25:00</td>\n",
       "      <td>944 Walnut St, Boston, MA 02215</td>\n",
       "      <td>1</td>\n",
       "      <td>Boston</td>\n",
       "    </tr>\n",
       "    <tr>\n",
       "      <th>1</th>\n",
       "      <td>141235</td>\n",
       "      <td>Lightning Charging Cable</td>\n",
       "      <td>1.0</td>\n",
       "      <td>14.950000</td>\n",
       "      <td>2019-01-28 14:15:00</td>\n",
       "      <td>185 Maple St, Portland, OR 97035</td>\n",
       "      <td>1</td>\n",
       "      <td>Portland</td>\n",
       "    </tr>\n",
       "    <tr>\n",
       "      <th>2</th>\n",
       "      <td>141236</td>\n",
       "      <td>Wired Headphones</td>\n",
       "      <td>2.0</td>\n",
       "      <td>11.990000</td>\n",
       "      <td>2019-01-17 13:33:00</td>\n",
       "      <td>538 Adams St, San Francisco, CA 94016</td>\n",
       "      <td>1</td>\n",
       "      <td>San Francisco</td>\n",
       "    </tr>\n",
       "    <tr>\n",
       "      <th>3</th>\n",
       "      <td>141237</td>\n",
       "      <td>27in FHD Monitor</td>\n",
       "      <td>1.0</td>\n",
       "      <td>149.990005</td>\n",
       "      <td>2019-01-05 20:33:00</td>\n",
       "      <td>738 10th St, Los Angeles, CA 90001</td>\n",
       "      <td>1</td>\n",
       "      <td>Los Angeles</td>\n",
       "    </tr>\n",
       "    <tr>\n",
       "      <th>4</th>\n",
       "      <td>141238</td>\n",
       "      <td>Wired Headphones</td>\n",
       "      <td>1.0</td>\n",
       "      <td>11.990000</td>\n",
       "      <td>2019-01-25 11:59:00</td>\n",
       "      <td>387 10th St, Austin, TX 73301</td>\n",
       "      <td>1</td>\n",
       "      <td>Austin</td>\n",
       "    </tr>\n",
       "    <tr>\n",
       "      <th>5</th>\n",
       "      <td>141239</td>\n",
       "      <td>AAA Batteries (4-pack)</td>\n",
       "      <td>1.0</td>\n",
       "      <td>2.990000</td>\n",
       "      <td>2019-01-29 20:22:00</td>\n",
       "      <td>775 Willow St, San Francisco, CA 94016</td>\n",
       "      <td>1</td>\n",
       "      <td>San Francisco</td>\n",
       "    </tr>\n",
       "    <tr>\n",
       "      <th>6</th>\n",
       "      <td>141240</td>\n",
       "      <td>27in 4K Gaming Monitor</td>\n",
       "      <td>1.0</td>\n",
       "      <td>389.989990</td>\n",
       "      <td>2019-01-26 12:16:00</td>\n",
       "      <td>979 Park St, Los Angeles, CA 90001</td>\n",
       "      <td>1</td>\n",
       "      <td>Los Angeles</td>\n",
       "    </tr>\n",
       "    <tr>\n",
       "      <th>7</th>\n",
       "      <td>141241</td>\n",
       "      <td>USB-C Charging Cable</td>\n",
       "      <td>1.0</td>\n",
       "      <td>11.950000</td>\n",
       "      <td>2019-01-05 12:04:00</td>\n",
       "      <td>181 6th St, San Francisco, CA 94016</td>\n",
       "      <td>1</td>\n",
       "      <td>San Francisco</td>\n",
       "    </tr>\n",
       "    <tr>\n",
       "      <th>8</th>\n",
       "      <td>141242</td>\n",
       "      <td>Bose SoundSport Headphones</td>\n",
       "      <td>1.0</td>\n",
       "      <td>99.989998</td>\n",
       "      <td>2019-01-01 10:30:00</td>\n",
       "      <td>867 Willow St, Los Angeles, CA 90001</td>\n",
       "      <td>1</td>\n",
       "      <td>Los Angeles</td>\n",
       "    </tr>\n",
       "    <tr>\n",
       "      <th>9</th>\n",
       "      <td>141243</td>\n",
       "      <td>Apple Airpods Headphones</td>\n",
       "      <td>1.0</td>\n",
       "      <td>150.000000</td>\n",
       "      <td>2019-01-22 21:20:00</td>\n",
       "      <td>657 Johnson St, San Francisco, CA 94016</td>\n",
       "      <td>1</td>\n",
       "      <td>San Francisco</td>\n",
       "    </tr>\n",
       "  </tbody>\n",
       "</table>\n",
       "</div>"
      ],
      "text/plain": [
       "  Order ID                     Product  Quantity Ordered  Price Each  \\\n",
       "0   141234                      iPhone               1.0  700.000000   \n",
       "1   141235    Lightning Charging Cable               1.0   14.950000   \n",
       "2   141236            Wired Headphones               2.0   11.990000   \n",
       "3   141237            27in FHD Monitor               1.0  149.990005   \n",
       "4   141238            Wired Headphones               1.0   11.990000   \n",
       "5   141239      AAA Batteries (4-pack)               1.0    2.990000   \n",
       "6   141240      27in 4K Gaming Monitor               1.0  389.989990   \n",
       "7   141241        USB-C Charging Cable               1.0   11.950000   \n",
       "8   141242  Bose SoundSport Headphones               1.0   99.989998   \n",
       "9   141243    Apple Airpods Headphones               1.0  150.000000   \n",
       "\n",
       "           Order Date                         Purchase Address  Month  \\\n",
       "0 2019-01-22 21:25:00          944 Walnut St, Boston, MA 02215      1   \n",
       "1 2019-01-28 14:15:00         185 Maple St, Portland, OR 97035      1   \n",
       "2 2019-01-17 13:33:00    538 Adams St, San Francisco, CA 94016      1   \n",
       "3 2019-01-05 20:33:00       738 10th St, Los Angeles, CA 90001      1   \n",
       "4 2019-01-25 11:59:00            387 10th St, Austin, TX 73301      1   \n",
       "5 2019-01-29 20:22:00   775 Willow St, San Francisco, CA 94016      1   \n",
       "6 2019-01-26 12:16:00       979 Park St, Los Angeles, CA 90001      1   \n",
       "7 2019-01-05 12:04:00      181 6th St, San Francisco, CA 94016      1   \n",
       "8 2019-01-01 10:30:00     867 Willow St, Los Angeles, CA 90001      1   \n",
       "9 2019-01-22 21:20:00  657 Johnson St, San Francisco, CA 94016      1   \n",
       "\n",
       "            City  \n",
       "0         Boston  \n",
       "1       Portland  \n",
       "2  San Francisco  \n",
       "3    Los Angeles  \n",
       "4         Austin  \n",
       "5  San Francisco  \n",
       "6    Los Angeles  \n",
       "7  San Francisco  \n",
       "8    Los Angeles  \n",
       "9  San Francisco  "
      ]
     },
     "execution_count": 12,
     "metadata": {},
     "output_type": "execute_result"
    }
   ],
   "source": [
    "# Displaying the final data at the end of data preparation section.\n",
    "combined_data.head(10)"
   ]
  },
  {
   "cell_type": "markdown",
   "id": "ed211982",
   "metadata": {},
   "source": [
    "## `3. Data Analysis`"
   ]
  },
  {
   "cell_type": "markdown",
   "id": "494fcf1c",
   "metadata": {},
   "source": [
    "### ● Write a Python program to show summary statistics of sum, mean, standard deviation, skewness, and kurtosis of any chosen variable. "
   ]
  },
  {
   "cell_type": "markdown",
   "id": "5e065c56",
   "metadata": {},
   "source": [
    "**Displaying the variable which can be describe on statistics mostly integer values.**"
   ]
  },
  {
   "cell_type": "code",
   "execution_count": 13,
   "id": "c91dcc32",
   "metadata": {},
   "outputs": [
    {
     "data": {
      "text/html": [
       "<div>\n",
       "<style scoped>\n",
       "    .dataframe tbody tr th:only-of-type {\n",
       "        vertical-align: middle;\n",
       "    }\n",
       "\n",
       "    .dataframe tbody tr th {\n",
       "        vertical-align: top;\n",
       "    }\n",
       "\n",
       "    .dataframe thead th {\n",
       "        text-align: right;\n",
       "    }\n",
       "</style>\n",
       "<table border=\"1\" class=\"dataframe\">\n",
       "  <thead>\n",
       "    <tr style=\"text-align: right;\">\n",
       "      <th></th>\n",
       "      <th>Quantity Ordered</th>\n",
       "      <th>Price Each</th>\n",
       "      <th>Month</th>\n",
       "    </tr>\n",
       "  </thead>\n",
       "  <tbody>\n",
       "    <tr>\n",
       "      <th>count</th>\n",
       "      <td>185950.000000</td>\n",
       "      <td>185950.000000</td>\n",
       "      <td>185950.000000</td>\n",
       "    </tr>\n",
       "    <tr>\n",
       "      <th>mean</th>\n",
       "      <td>1.124383</td>\n",
       "      <td>184.399719</td>\n",
       "      <td>7.059140</td>\n",
       "    </tr>\n",
       "    <tr>\n",
       "      <th>std</th>\n",
       "      <td>0.442793</td>\n",
       "      <td>332.731323</td>\n",
       "      <td>3.502996</td>\n",
       "    </tr>\n",
       "    <tr>\n",
       "      <th>min</th>\n",
       "      <td>1.000000</td>\n",
       "      <td>2.990000</td>\n",
       "      <td>1.000000</td>\n",
       "    </tr>\n",
       "    <tr>\n",
       "      <th>25%</th>\n",
       "      <td>1.000000</td>\n",
       "      <td>11.950000</td>\n",
       "      <td>4.000000</td>\n",
       "    </tr>\n",
       "    <tr>\n",
       "      <th>50%</th>\n",
       "      <td>1.000000</td>\n",
       "      <td>14.950000</td>\n",
       "      <td>7.000000</td>\n",
       "    </tr>\n",
       "    <tr>\n",
       "      <th>75%</th>\n",
       "      <td>1.000000</td>\n",
       "      <td>150.000000</td>\n",
       "      <td>10.000000</td>\n",
       "    </tr>\n",
       "    <tr>\n",
       "      <th>max</th>\n",
       "      <td>9.000000</td>\n",
       "      <td>1700.000000</td>\n",
       "      <td>12.000000</td>\n",
       "    </tr>\n",
       "  </tbody>\n",
       "</table>\n",
       "</div>"
      ],
      "text/plain": [
       "       Quantity Ordered     Price Each          Month\n",
       "count     185950.000000  185950.000000  185950.000000\n",
       "mean           1.124383     184.399719       7.059140\n",
       "std            0.442793     332.731323       3.502996\n",
       "min            1.000000       2.990000       1.000000\n",
       "25%            1.000000      11.950000       4.000000\n",
       "50%            1.000000      14.950000       7.000000\n",
       "75%            1.000000     150.000000      10.000000\n",
       "max            9.000000    1700.000000      12.000000"
      ]
     },
     "execution_count": 13,
     "metadata": {},
     "output_type": "execute_result"
    }
   ],
   "source": [
    "# Using describe() method to return description of the dataframe.\n",
    "combined_data.describe()"
   ]
  },
  {
   "cell_type": "markdown",
   "id": "991d5411",
   "metadata": {},
   "source": [
    "**Creating a get_statistics function to display the statistics of any chosen variable.**"
   ]
  },
  {
   "cell_type": "code",
   "execution_count": 29,
   "id": "105c5ef7",
   "metadata": {},
   "outputs": [
    {
     "name": "stdout",
     "output_type": "stream",
     "text": [
      "Month:\n",
      "sum = 1312647\n",
      "mean = 7.059139553643453\n",
      "std = 3.5029960006289613\n",
      "skew = -0.08858776558911155\n",
      "kurt = -1.29355484266831\n"
     ]
    }
   ],
   "source": [
    "# Import the kurtosis function from the scipy.stats library\n",
    "from scipy.stats import kurtosis\n",
    "\n",
    "# Define a function named get_statistics that takes a variable as an argument\n",
    "def get_statistics(variable):\n",
    "    print(f\"{variable}:\")\n",
    "    \n",
    "    # Define a tuple of statistical functions to be applied to the variable\n",
    "    stats_functions = (\n",
    "        combined_data[variable].sum, \n",
    "        combined_data[variable].mean,\n",
    "        combined_data[variable].std, \n",
    "        combined_data[variable].skew,\n",
    "        combined_data[variable].kurtosis\n",
    "    )\n",
    "    \n",
    "    # For each of the functions in the tuple, apply the function to the combined_data DataFrame,\n",
    "    # and print the name of the function and the result.\n",
    "    for func in stats_functions:\n",
    "        print(func.__name__, \"=\", func())\n",
    "        \n",
    "get_statistics(\"Month\")"
   ]
  },
  {
   "cell_type": "markdown",
   "id": "4bf8c804",
   "metadata": {},
   "source": [
    "### ● Write a Python program to calculate and show correlation of all variables. "
   ]
  },
  {
   "cell_type": "markdown",
   "id": "32a16b0f",
   "metadata": {},
   "source": [
    "**Calculating the correlation of all variable.**"
   ]
  },
  {
   "cell_type": "code",
   "execution_count": 15,
   "id": "9c67a4ec",
   "metadata": {},
   "outputs": [
    {
     "data": {
      "text/html": [
       "<div>\n",
       "<style scoped>\n",
       "    .dataframe tbody tr th:only-of-type {\n",
       "        vertical-align: middle;\n",
       "    }\n",
       "\n",
       "    .dataframe tbody tr th {\n",
       "        vertical-align: top;\n",
       "    }\n",
       "\n",
       "    .dataframe thead th {\n",
       "        text-align: right;\n",
       "    }\n",
       "</style>\n",
       "<table border=\"1\" class=\"dataframe\">\n",
       "  <thead>\n",
       "    <tr style=\"text-align: right;\">\n",
       "      <th></th>\n",
       "      <th>Quantity Ordered</th>\n",
       "      <th>Price Each</th>\n",
       "      <th>Month</th>\n",
       "    </tr>\n",
       "  </thead>\n",
       "  <tbody>\n",
       "    <tr>\n",
       "      <th>Quantity Ordered</th>\n",
       "      <td>1.000000</td>\n",
       "      <td>-0.148272</td>\n",
       "      <td>0.000791</td>\n",
       "    </tr>\n",
       "    <tr>\n",
       "      <th>Price Each</th>\n",
       "      <td>-0.148272</td>\n",
       "      <td>1.000000</td>\n",
       "      <td>-0.003375</td>\n",
       "    </tr>\n",
       "    <tr>\n",
       "      <th>Month</th>\n",
       "      <td>0.000791</td>\n",
       "      <td>-0.003375</td>\n",
       "      <td>1.000000</td>\n",
       "    </tr>\n",
       "  </tbody>\n",
       "</table>\n",
       "</div>"
      ],
      "text/plain": [
       "                  Quantity Ordered  Price Each     Month\n",
       "Quantity Ordered          1.000000   -0.148272  0.000791\n",
       "Price Each               -0.148272    1.000000 -0.003375\n",
       "Month                     0.000791   -0.003375  1.000000"
      ]
     },
     "execution_count": 15,
     "metadata": {},
     "output_type": "execute_result"
    }
   ],
   "source": [
    "# corr() method is used to finds the correlation of each column in a DataFrame.\n",
    "# numeric_only=True parameter is used to calculate the numeric value only.\n",
    "combined_data.corr(numeric_only=True)"
   ]
  },
  {
   "cell_type": "markdown",
   "id": "a9a14909",
   "metadata": {},
   "source": [
    "**Creating a find_corr function to display the correlation of any chosen variable.**"
   ]
  },
  {
   "cell_type": "code",
   "execution_count": 16,
   "id": "be9748ac",
   "metadata": {},
   "outputs": [
    {
     "data": {
      "text/plain": [
       "Month              -0.003375\n",
       "Quantity Ordered   -0.148272\n",
       "Name: Price Each, dtype: float64"
      ]
     },
     "execution_count": 16,
     "metadata": {},
     "output_type": "execute_result"
    }
   ],
   "source": [
    "# Define a function named find_corr that takes a target as an argument\n",
    "def find_corr(target):\n",
    "    \n",
    "    # Compute the dataframe using the pandas 'corr' function\n",
    "    corr = combined_data.corr(numeric_only=True)\n",
    "    \n",
    "    # Sort correlations in descending order, exclude self-correlation\n",
    "    return corr[target].sort_values(ascending=False)[1:]\n",
    "\n",
    "find_corr('Price Each')"
   ]
  },
  {
   "cell_type": "markdown",
   "id": "3cb42fab",
   "metadata": {},
   "source": [
    "## `4. Data Exploration`"
   ]
  },
  {
   "cell_type": "markdown",
   "id": "e7bb4900",
   "metadata": {},
   "source": [
    "### ● Which Month has the best sales? and how much was the earning in that month? Make a bar graph of sales as well. "
   ]
  },
  {
   "cell_type": "markdown",
   "id": "85845141",
   "metadata": {},
   "source": [
    "**The month which have the best sales.**"
   ]
  },
  {
   "cell_type": "code",
   "execution_count": 17,
   "id": "67adb6c1",
   "metadata": {},
   "outputs": [
    {
     "name": "stdout",
     "output_type": "stream",
     "text": [
      "The month which have the best sales is December.\n"
     ]
    }
   ],
   "source": [
    "# Import the calender to use the month_name attribute of the calendar module to get the word value of the month\n",
    "# corresponding to month_num. \n",
    "import calendar\n",
    "\n",
    "# Calculate the total cost of each order and group the data by month, then sum the total cost for each month.\n",
    "combined_data['total_cost'] = combined_data['Quantity Ordered'].mul(combined_data['Price Each'])\n",
    "monthly_total_sales = combined_data.groupby(\"Month\")[\"total_cost\"].sum()\n",
    "\n",
    "# Find the month with the highest total sales and print its name.\n",
    "print(f\"The month which have the best sales is {calendar.month_name[monthly_total_sales.idxmax()]}.\")"
   ]
  },
  {
   "cell_type": "markdown",
   "id": "1034aae9",
   "metadata": {},
   "source": [
    "**Displaying all the sales in months.**"
   ]
  },
  {
   "cell_type": "code",
   "execution_count": 18,
   "id": "f863d3c4",
   "metadata": {},
   "outputs": [
    {
     "data": {
      "text/plain": [
       "Month\n",
       "1     1822256.75\n",
       "2     2202022.50\n",
       "3     2807100.25\n",
       "4     3390670.25\n",
       "5     3152606.75\n",
       "6     2577802.25\n",
       "7     2647775.75\n",
       "8     2244467.75\n",
       "9     2097560.00\n",
       "10    3736726.75\n",
       "11    3199603.25\n",
       "12    4613443.50\n",
       "Name: total_cost, dtype: float32"
      ]
     },
     "execution_count": 18,
     "metadata": {},
     "output_type": "execute_result"
    }
   ],
   "source": [
    "monthly_total_sales"
   ]
  },
  {
   "cell_type": "markdown",
   "id": "7aff8519",
   "metadata": {},
   "source": [
    "**The value of earning in the best sales month.**"
   ]
  },
  {
   "cell_type": "code",
   "execution_count": 19,
   "id": "11e8026f",
   "metadata": {},
   "outputs": [
    {
     "name": "stdout",
     "output_type": "stream",
     "text": [
      "The value of earning in the best sales month: $4613443.5\n"
     ]
    }
   ],
   "source": [
    "print(f\"The value of earning in the best sales month: ${monthly_total_sales.max()}\")"
   ]
  },
  {
   "cell_type": "markdown",
   "id": "6fff0bf9",
   "metadata": {},
   "source": [
    "**Bar graph of sales in all 12 months.**"
   ]
  },
  {
   "cell_type": "code",
   "execution_count": 20,
   "id": "e7fd6057",
   "metadata": {},
   "outputs": [
    {
     "data": {
      "image/png": "[encoded data removed]",
      "text/plain": [
       "<Figure size 1000x600 with 1 Axes>"
      ]
     },
     "metadata": {},
     "output_type": "display_data"
    }
   ],
   "source": [
    "import matplotlib.pyplot as plt\n",
    "import matplotlib.ticker as mtick\n",
    "import datetime\n",
    "\n",
    "# Create a list of abbreviated month names\n",
    "# By looping twelve time to extract using strftime('%b') \n",
    "month_names = [datetime.date(2023, i, 23).strftime('%b') for i in range(1, 13)]\n",
    "\n",
    "# Create a figure with size 10x6 inches\n",
    "plt.figure(figsize=(10,6))\n",
    "\n",
    "# Plot the data using a bar chart\n",
    "plt.bar(range(1, 13), monthly_total_sales, color=\"#bc5090\", width=0.65)\n",
    "\n",
    "# Set the x-axis tick labels to the month names\n",
    "plt.xticks(range(1, 13), month_names)\n",
    "\n",
    "# Set the label for the x-axis, y-axis and title of the plot\n",
    "plt.xlabel('Months')\n",
    "plt.ylabel('Total Sales')\n",
    "plt.title('Monthly Sales Bar')\n",
    "\n",
    "# Format the y-axis ticks\n",
    "\n",
    "# Define the format string for the y-axis ticks\n",
    "fmt = '%.f'  # no decimal places\n",
    "# Create a FormatStrFormatter object with the format string\n",
    "yticks = mtick.FormatStrFormatter(fmt)\n",
    "# Set the y-axis tick formatter to the FormatStrFormatter object\n",
    "plt.gca().yaxis.set_major_formatter(yticks)\n",
    "\n",
    "\n",
    "plt.show()"
   ]
  },
  {
   "cell_type": "markdown",
   "id": "c04c481d",
   "metadata": {},
   "source": [
    "### ● Which city has sold the highest product?"
   ]
  },
  {
   "cell_type": "markdown",
   "id": "ca236a8d",
   "metadata": {},
   "source": [
    "**The city who has sold the highest product.**"
   ]
  },
  {
   "cell_type": "code",
   "execution_count": 21,
   "id": "9113b2c8",
   "metadata": {},
   "outputs": [
    {
     "name": "stdout",
     "output_type": "stream",
     "text": [
      "The City which have the best sales is San Francisco.\n"
     ]
    }
   ],
   "source": [
    "# Group the data by City and sum the Quantity Ordered column for each group\n",
    "city_total_sales = combined_data.groupby(\"City\")[\"Quantity Ordered\"].sum()\n",
    "\n",
    "# Find the city with the highest total sales and print its name.\n",
    "print(f\"The City which have the best sales is {city_total_sales.idxmax()}.\")"
   ]
  },
  {
   "cell_type": "markdown",
   "id": "dd81d984",
   "metadata": {},
   "source": [
    "**Displaying all the sales in Citys.**"
   ]
  },
  {
   "cell_type": "code",
   "execution_count": 22,
   "id": "e67dd769",
   "metadata": {},
   "outputs": [
    {
     "name": "stdout",
     "output_type": "stream",
     "text": [
      "City\n",
      "San Francisco    50239.0\n",
      "Los Angeles      33289.0\n",
      "New York City    27932.0\n",
      "Boston           22528.0\n",
      "Dallas           16730.0\n",
      "Atlanta          16602.0\n",
      "Seattle          16553.0\n",
      "Portland         14053.0\n",
      "Austin           11153.0\n",
      "Name: Quantity Ordered, dtype: float32\n"
     ]
    }
   ],
   "source": [
    "print(city_total_sales.sort_values(ascending=False))"
   ]
  },
  {
   "cell_type": "markdown",
   "id": "71d45706",
   "metadata": {},
   "source": [
    "**Bar graph of sales in all unique citys.**"
   ]
  },
  {
   "cell_type": "code",
   "execution_count": 23,
   "id": "17ed0faa",
   "metadata": {},
   "outputs": [
    {
     "data": {
      "image/png": "[encoded data removed]",
      "text/plain": [
       "<Figure size 800x600 with 1 Axes>"
      ]
     },
     "metadata": {},
     "output_type": "display_data"
    }
   ],
   "source": [
    "import matplotlib.pyplot as plt\n",
    "import matplotlib.ticker as mtick\n",
    "\n",
    "# Create a figure with size 8x6 inches\n",
    "plt.figure(figsize=(8,6))\n",
    "\n",
    "# Plot the data using a bar chart\n",
    "city_total_sales.plot(kind='bar', color=\"#bc5090\", width=0.7)\n",
    "\n",
    "# Set the label for the x-axis, y-axis and title of the plot\n",
    "plt.xlabel('Citys')\n",
    "plt.ylabel('Total Sales')\n",
    "plt.title('City Total Sales Bar')\n",
    "\n",
    "\n",
    "# Format the y-axis ticks\n",
    "\n",
    "# Define the format string for the y-axis ticks\n",
    "fmt = '%.f'  # no decimal places\n",
    "# Create a FormatStrFormatter object with the format string\n",
    "yticks = mtick.FormatStrFormatter(fmt)\n",
    "# Set the y-axis tick formatter to the FormatStrFormatter object\n",
    "plt.gca().yaxis.set_major_formatter(yticks)\n",
    "\n",
    "plt.show()"
   ]
  },
  {
   "cell_type": "markdown",
   "id": "63420e52",
   "metadata": {},
   "source": [
    "### ● Which product was sold the most in overall? Illustrate it through bar graph."
   ]
  },
  {
   "cell_type": "markdown",
   "id": "a802f727",
   "metadata": {},
   "source": [
    "**The Product which is sold highest number of time.**"
   ]
  },
  {
   "cell_type": "code",
   "execution_count": 24,
   "id": "c4df751c",
   "metadata": {},
   "outputs": [
    {
     "name": "stdout",
     "output_type": "stream",
     "text": [
      "The product that was sold the most overall was AAA Batteries (4-pack) with a \n",
      "total quantity sold of 31017.0.\n"
     ]
    }
   ],
   "source": [
    "# Group the data by product and sum the Quantity Ordered column for each group\n",
    "total_sales_of_product_by_number = combined_data.groupby(\"Product\")[\"Quantity Ordered\"].sum()\n",
    "\n",
    "# Print the name of the best-selling product and its total quantity sold\n",
    "print(f\"\"\"The product that was sold the most overall was {total_sales_of_product_by_number.idxmax()} with a \n",
    "total quantity sold of {total_sales_of_product_by_number.max()}.\"\"\")"
   ]
  },
  {
   "cell_type": "markdown",
   "id": "6f705aae",
   "metadata": {},
   "source": [
    "**Displaying all the Number of sales of Products.**"
   ]
  },
  {
   "cell_type": "code",
   "execution_count": 25,
   "id": "9c5cdd7c",
   "metadata": {},
   "outputs": [
    {
     "name": "stdout",
     "output_type": "stream",
     "text": [
      "Product\n",
      "AAA Batteries (4-pack)        31017.0\n",
      "AA Batteries (4-pack)         27635.0\n",
      "USB-C Charging Cable          23975.0\n",
      "Lightning Charging Cable      23217.0\n",
      "Wired Headphones              20557.0\n",
      "Apple Airpods Headphones      15661.0\n",
      "Bose SoundSport Headphones    13457.0\n",
      "27in FHD Monitor               7550.0\n",
      "iPhone                         6849.0\n",
      "27in 4K Gaming Monitor         6244.0\n",
      "34in Ultrawide Monitor         6199.0\n",
      "Google Phone                   5532.0\n",
      "Flatscreen TV                  4819.0\n",
      "Macbook Pro Laptop             4728.0\n",
      "ThinkPad Laptop                4130.0\n",
      "20in Monitor                   4129.0\n",
      "Vareebadd Phone                2068.0\n",
      "LG Washing Machine              666.0\n",
      "LG Dryer                        646.0\n",
      "Name: Quantity Ordered, dtype: float32\n"
     ]
    }
   ],
   "source": [
    "print(total_sales_of_product_by_number.sort_values(ascending=False))"
   ]
  },
  {
   "cell_type": "markdown",
   "id": "331a996d",
   "metadata": {},
   "source": [
    "**Bar graph of Number of sales in all unique products.**"
   ]
  },
  {
   "cell_type": "code",
   "execution_count": 26,
   "id": "2c417f31",
   "metadata": {},
   "outputs": [
    {
     "data": {
      "image/png": "[encoded data removed]",
      "text/plain": [
       "<Figure size 1200x800 with 1 Axes>"
      ]
     },
     "metadata": {},
     "output_type": "display_data"
    }
   ],
   "source": [
    "import matplotlib.ticker as mtick\n",
    "\n",
    "# Create a figure with size 12x8 inches\n",
    "plt.figure(figsize=(12,8))\n",
    "\n",
    "# Plot the data using a bar chart\n",
    "total_sales_of_product_by_number.plot(kind='bar', color=\"#bc5090\", width=0.6)\n",
    "\n",
    "# Set the label for the x-axis, y-axis and title of the plot\n",
    "plt.xlabel('Products')\n",
    "plt.ylabel('Total Sales')\n",
    "plt.title('Total sales based on product bar')\n",
    "\n",
    "# Format the y-axis ticks\n",
    "\n",
    "# Define the format string for the y-axis ticks\n",
    "fmt = '%.f'  # no decimal places\n",
    "# Create a FormatStrFormatter object with the format string\n",
    "yticks = mtick.FormatStrFormatter(fmt)\n",
    "# Set the y-axis tick formatter to the FormatStrFormatter object\n",
    "plt.gca().yaxis.set_major_formatter(yticks)\n",
    "\n",
    "plt.show()"
   ]
  },
  {
   "cell_type": "markdown",
   "id": "21ccb52b",
   "metadata": {},
   "source": [
    "### ● Write a Python program to show histogram plot of any chosen variables. Use proper labels in the graph."
   ]
  },
  {
   "cell_type": "markdown",
   "id": "100a01e5",
   "metadata": {},
   "source": [
    "**Name of all the variable to show histogram.**"
   ]
  },
  {
   "cell_type": "code",
   "execution_count": 27,
   "id": "06799dcf",
   "metadata": {},
   "outputs": [
    {
     "name": "stdout",
     "output_type": "stream",
     "text": [
      "Here are all the variables which can be use to show histogram:\n",
      "1. Order ID\n",
      "2. Product\n",
      "3. Quantity Ordered\n",
      "4. Price Each\n",
      "5. Order Date\n",
      "6. Purchase Address\n",
      "7. Month\n",
      "8. City\n",
      "9. total_cost\n",
      "Note: Some of the variables like 'Order ID', 'Order Date' and 'Purchase Address' take vast period of time!\n"
     ]
    }
   ],
   "source": [
    "print(\"Here are all the variables which can be use to show histogram:\")\n",
    "print(\"\\n\".join([f\"{i+1}. {col}\" for i, col in enumerate(combined_data.columns)]))\n",
    "print(\"Note: Some of the variables like 'Order ID', 'Order Date' and 'Purchase Address' take vast period of time!\")"
   ]
  },
  {
   "cell_type": "markdown",
   "id": "20a50886",
   "metadata": {},
   "source": [
    "**Funtion for ploting Histogram of each variables.**"
   ]
  },
  {
   "cell_type": "code",
   "execution_count": 28,
   "id": "2d0f938a",
   "metadata": {},
   "outputs": [
    {
     "data": {
      "image/png": "[encoded data removed]",
      "text/plain": [
       "<Figure size 1800x1000 with 1 Axes>"
      ]
     },
     "metadata": {},
     "output_type": "display_data"
    }
   ],
   "source": [
    "import matplotlib.pyplot as plt\n",
    "\n",
    "# Define a function to plot a histogram for the given column name.\n",
    "def plot_hist(call):\n",
    "    # Using try-except for better error detection.\n",
    "    try:\n",
    "        # Create a new figure with size 18x8 inches\n",
    "        plt.figure(figsize=(18,10))\n",
    "        \n",
    "        # Plot the histogram with the specified bins, color, edgecolor, and linewidth\n",
    "        bins = plt.hist(combined_data[f\"{call}\"], bins= len(combined_data[f\"{call}\"].unique()) - 1,\n",
    "                color=\"pink\", edgecolor=\"black\", linewidth=0.7) \n",
    "        # Set the xticks to match the bin edges\n",
    "        plt.xticks(bins[1])\n",
    "        \n",
    "        # Set the ylabel, xlabel, and title of the plot\n",
    "        plt.ylabel('Count')\n",
    "        plt.xlabel(f'{call}')\n",
    "        plt.title(f'Histogram of {call}')\n",
    "        \n",
    "        plt.show()\n",
    "        \n",
    "    except Exception as e:\n",
    "        # Print an error message if an exception is raised\n",
    "        print('Error occurred: ' + str(e))\n",
    "    \n",
    "plot_hist(\"Month\")"
   ]
  },
  {
   "cell_type": "code",
   "execution_count": null,
   "id": "c24b445c",
   "metadata": {},
   "outputs": [],
   "source": []
  }
 ],
 "metadata": {
  "kernelspec": {
   "display_name": "Python 3 (ipykernel)",
   "language": "python",
   "name": "python3"
  },
  "language_info": {
   "codemirror_mode": {
    "name": "ipython",
    "version": 3
   },
   "file_extension": ".py",
   "mimetype": "text/x-python",
   "name": "python",
   "nbconvert_exporter": "python",
   "pygments_lexer": "ipython3",
   "version": "3.10.9"
  }
 },
 "nbformat": 4,
 "nbformat_minor": 5
}
